{
  "nbformat": 4,
  "nbformat_minor": 0,
  "metadata": {
    "colab": {
      "name": "Pytorch01_two_layer_NN.ipynb",
      "provenance": [],
      "authorship_tag": "ABX9TyMpgbiYHftTG2ny/PbSwaVh",
      "include_colab_link": true
    },
    "kernelspec": {
      "name": "python3",
      "display_name": "Python 3"
    }
  },
  "cells": [
    {
      "cell_type": "markdown",
      "metadata": {
        "id": "view-in-github",
        "colab_type": "text"
      },
      "source": [
        "<a href=\"https://colab.research.google.com/github/stemgene/Pytorch_training/blob/master/Pytorch01_two_layer_NN.ipynb\" target=\"_parent\"><img src=\"https://colab.research.google.com/assets/colab-badge.svg\" alt=\"Open In Colab\"/></a>"
      ]
    },
    {
      "cell_type": "markdown",
      "metadata": {
        "id": "XWPT1do4ofwV",
        "colab_type": "text"
      },
      "source": [
        "https://github.com/ZeweiChu/PyTorch-Course/blob/master/notebooks/\n",
        "\n",
        "https://github.com/zhanghang1989/PyTorch-Multi-Style-Transfer\n",
        "\n",
        "http://francescopochetti.com/style-transfer-with-fast-ai-and-pytorch/"
      ]
    },
    {
      "cell_type": "markdown",
      "metadata": {
        "id": "_8PELtYzmgpM",
        "colab_type": "text"
      },
      "source": [
        "## 什么是PyTorch?\n",
        "\n",
        "PyTorch是一个基于Python的科学计算库，它有以下特点:\n",
        "\n",
        "* 类似于NumPy，但是它可以使用GPU\n",
        "* 可以用它定义深度学习模型，可以灵活地进行深度学习模型的训练和使用"
      ]
    },
    {
      "cell_type": "markdown",
      "metadata": {
        "id": "JfShlVgLAkXF",
        "colab_type": "text"
      },
      "source": [
        "### Tensors\n",
        "\n",
        "Tensor类似与NumPy的ndarray，唯一的区别是Tensor可以在GPU上加速运算。"
      ]
    },
    {
      "cell_type": "code",
      "metadata": {
        "id": "e8lhu82jmSrQ",
        "colab_type": "code",
        "colab": {}
      },
      "source": [
        "from __future__ import print_function\n",
        "import torch"
      ],
      "execution_count": 0,
      "outputs": []
    },
    {
      "cell_type": "markdown",
      "metadata": {
        "id": "0AuOv5JHmqx8",
        "colab_type": "text"
      },
      "source": [
        "构造一个未初始化的5x3矩阵:"
      ]
    },
    {
      "cell_type": "code",
      "metadata": {
        "id": "8kFzmLvRBHGL",
        "colab_type": "code",
        "colab": {}
      },
      "source": [
        "x = troch.empty(5, 3)"
      ],
      "execution_count": 0,
      "outputs": []
    }
  ]
}